{
 "cells": [
  {
   "cell_type": "markdown",
   "id": "39a87313-f27d-41fe-abc1-4926ab467829",
   "metadata": {},
   "source": [
    "---\n",
    "title: \"Лабораторна робота №8. Модулі, пакети та pip\"\n",
    "description:\n",
    "  Документ зроблено в [Quarto](https://quarto.org/)\n",
    "author: \"&copy; <span style='color: blue;'> Diana Mardeeva </span>, 2024\"\n",
    "date: \"02.12.2024\"\n",
    "lang: ukr\n",
    "format:\n",
    "  html:\n",
    "    code-fold: true\n",
    "    toc: true # меню\n",
    "    toc_float: # спливаюче меню  \n",
    "      collapsed: true # авто\n",
    "      number_sections: true\n",
    "jupyter: python3\n",
    "---"
   ]
  },
  {
   "cell_type": "markdown",
   "id": "c2cfd63e-ea31-43bf-8ca5-864c12eb94e8",
   "metadata": {},
   "source": [
    "__Мета:__ _навчитися імпортувати, користуватися, створювати модулі та пакети. Навчитися користуватися \"сирною крамницею\" PyPi та менеджером пакетів `pip`_"
   ]
  },
  {
   "cell_type": "markdown",
   "id": "0dd38c18-1a62-43e9-9654-6502794dc8e0",
   "metadata": {},
   "source": [
    "## Що ви будете вміти?\n",
    "* створювати та використовувати модулі Python;\n",
    "* створювати та використовувати пакети Python;\n",
    "* використовувати PIP (Python Installation Package) для встановлення та видалення готових до використання пакетів з PyPi."
   ]
  },
  {
   "cell_type": "markdown",
   "id": "0d4d96df-e050-4a7c-bbc0-0f70571cf58f",
   "metadata": {},
   "source": [
    "## Створення модуля"
   ]
  },
  {
   "cell_type": "markdown",
   "id": "51ee5362-1888-4dd9-8d71-7b0610f8a885",
   "metadata": {},
   "source": [
    "### Завдання 1\n",
    "\n",
    "Створити модуль `module.py` та файл `main.py`, структура яких описана у лекції 9, повторишви кроки 1-10. "
   ]
  },
  {
   "cell_type": "code",
   "execution_count": null,
   "id": "632bdb3b-5ca5-46fb-b0c3-7d5570603af4",
   "metadata": {},
   "outputs": [],
   "source": [
    "print(\"I like to be a module\")"
   ]
  },
  {
   "cell_type": "markdown",
   "id": "d06b5474-89fa-4083-aac2-bbb363daa1eb",
   "metadata": {},
   "source": [
    "'Файл module.py '"
   ]
  },
  {
   "cell_type": "markdown",
   "id": "ab5b5f94-9aa2-414e-82fc-7a8faedb664a",
   "metadata": {},
   "source": [
    "### Завдання 1.1\n",
    "Змінна __name__"
   ]
  },
  {
   "cell_type": "code",
   "execution_count": null,
   "id": "475caffe-b045-4bbc-810a-85a3b43a8bf7",
   "metadata": {},
   "outputs": [],
   "source": [
    "print(\"I like to be a module\")\n",
    "print(__name__)"
   ]
  },
  {
   "cell_type": "markdown",
   "id": "6a90bf53-5207-4b15-b7e1-b264b8847c76",
   "metadata": {},
   "source": [
    "'Файл module.py '"
   ]
  },
  {
   "cell_type": "code",
   "execution_count": null,
   "id": "b824e6d9-7f35-4e1b-ac2c-e68710d3d1ef",
   "metadata": {},
   "outputs": [],
   "source": [
    "import module"
   ]
  },
  {
   "cell_type": "markdown",
   "id": "6dcdb9c7-876e-45f2-9332-690512568e65",
   "metadata": {},
   "source": [
    "'Файл main.py '"
   ]
  },
  {
   "cell_type": "markdown",
   "id": "80091560-26fd-4fee-b14b-f0eeb6d0d073",
   "metadata": {},
   "source": [
    "### Завдання 1.2"
   ]
  },
  {
   "cell_type": "code",
   "execution_count": null,
   "id": "bceee846-f2b5-47e1-9072-ef87b36750f7",
   "metadata": {},
   "outputs": [],
   "source": [
    "counter = 0\n",
    "if __name__ == '__main__':\n",
    "    print(\"I prefer to be a module\")\n",
    "else:\n",
    "    print(\"I like to be a module\")"
   ]
  },
  {
   "cell_type": "markdown",
   "id": "3f53d24d-e1c3-4520-a03d-95fbfeac9661",
   "metadata": {},
   "source": [
    "'Файл module.py '"
   ]
  },
  {
   "cell_type": "code",
   "execution_count": null,
   "id": "299cab7f-2048-452f-a294-d310a00f6704",
   "metadata": {},
   "outputs": [],
   "source": [
    "import module\n",
    "print(module.counter)"
   ]
  },
  {
   "cell_type": "markdown",
   "id": "67cd8455-03a9-443b-af1c-11a58fd5f346",
   "metadata": {},
   "source": [
    "'Файл main.py '"
   ]
  },
  {
   "cell_type": "markdown",
   "id": "8f6d8dc2-9499-40f8-9ded-ffa20cabc999",
   "metadata": {},
   "source": [
    "### Завдання 1.3"
   ]
  },
  {
   "cell_type": "code",
   "execution_count": null,
   "id": "c2399cdc-3742-4bac-8415-52c0a323868f",
   "metadata": {},
   "outputs": [],
   "source": [
    "__counter = 0\n",
    "def suml(the_list):\n",
    "    global __counter\n",
    "    __counter += 1\n",
    "    the_sum = 0\n",
    "    for element in the_list:\n",
    "        the_sum += element\n",
    "        return the_sum\n",
    "    def prodl(the_list):\n",
    "        global __counter\n",
    "        __counter += 1\n",
    "        prod = 1\n",
    "        for element in the_list:\n",
    "            prod *= element\n",
    "            return prod\n",
    "if __name__ == '__main__':\n",
    "    print(\"I prefer to be a module, but I can do some tests for you.\")\n",
    "    my_list = [i+1 for i in range(5)]\n",
    "    print(suml(my_list) == 15)"
   ]
  },
  {
   "cell_type": "markdown",
   "id": "4dd83fd6-66bd-490c-b98a-ab04de232942",
   "metadata": {},
   "source": [
    "'Файл module.py '"
   ]
  },
  {
   "cell_type": "code",
   "execution_count": null,
   "id": "93d7ca72-5098-4b32-98f6-6fcf4b222562",
   "metadata": {},
   "outputs": [],
   "source": [
    "from module import suml, prodl\n",
    "\n",
    "zeroes = [0 for i in range(5)]\n",
    "ones = [1 for i in range(5)]\n",
    "print(suml(zeroes))\n",
    "print(prodl(ones))"
   ]
  },
  {
   "cell_type": "markdown",
   "id": "de50f199-11a3-4319-b477-e64b2ca10a26",
   "metadata": {},
   "source": [
    "'Файл main.py '"
   ]
  },
  {
   "cell_type": "markdown",
   "id": "3a1aba51-974e-4e43-bad1-6049a641414b",
   "metadata": {},
   "source": [
    "### Завдання 1.4\n",
    "Змінна __path__"
   ]
  },
  {
   "cell_type": "code",
   "execution_count": null,
   "id": "fe0d3c00-96e9-4416-ad0b-23130e738090",
   "metadata": {},
   "outputs": [],
   "source": [
    "def funA():\n",
    "    return \"Alpha\"\n",
    "if __name__ == \"__main__\":\n",
    "    print(\"I prefer to be a module.\")"
   ]
  },
  {
   "cell_type": "markdown",
   "id": "d7250153-5021-4b84-8f93-b2f5c7ef0581",
   "metadata": {},
   "source": [
    "'Файл module.py '"
   ]
  },
  {
   "cell_type": "code",
   "execution_count": null,
   "id": "926c14a9-4578-4af3-b7b8-ff2cc1013a96",
   "metadata": {},
   "outputs": [],
   "source": [
    "from sys import path\n",
    "path.append(r'C:\\Users\\Admin\\PycharmProjects\\main\\ру\\modules')\n",
    "\n",
    "import module\n",
    "\n",
    "zeroes = [0 for i in range(5)]\n",
    "ones = [1 for i in range(5)]\n",
    "print(module.suml(zeroes))\n",
    "print(module.prodl(ones))"
   ]
  },
  {
   "cell_type": "markdown",
   "id": "3a5573e4-34ae-461d-bec3-7943ebe534db",
   "metadata": {},
   "source": [
    "'Файл main.py '"
   ]
  },
  {
   "cell_type": "markdown",
   "id": "86645277-1c19-461c-81fe-9a1e0bd5a381",
   "metadata": {},
   "source": [
    "## Створення пакета"
   ]
  },
  {
   "cell_type": "markdown",
   "id": "37ca2908-a964-4c03-b78c-a93e078325b8",
   "metadata": {},
   "source": [
    "### Завдання 2\n",
    "\n",
    "Створити пакет `extra`, структура яких описана у лекції 9, повторишви кроки 1-7, завантаживши потрібні файли за наведеними нижче посиланнями:  \n",
    "\n",
    "[Modules and Packages ZIP file.zip](python_lab_8_quarto_files\\Modules and Packages ZIP file.zip)\n",
    "\n",
    "[Extrapack ZIP file.zip](python_lab_8_quarto_files\\Extrapack ZIP file.zip)\n"
   ]
  },
  {
   "cell_type": "code",
   "execution_count": null,
   "id": "948f4e49-97e0-4b5c-aee4-36f9617b7006",
   "metadata": {},
   "outputs": [],
   "source": [
    "from sys import path\n",
    "\n",
    "path.append(\"C:\\Users\\Admin\\PycharmProjects\\main\\ру\\packages\")\n",
    "\n",
    "import extra.iota\n",
    "\n",
    "print(extra.iota.funI())"
   ]
  },
  {
   "cell_type": "markdown",
   "id": "5bae1ff4-5eff-4459-ba46-04e6e3b2de94",
   "metadata": {},
   "source": [
    "'Файл main2.py '"
   ]
  },
  {
   "cell_type": "code",
   "execution_count": null,
   "id": "33561b3a-fb54-4910-a546-56cbd9423e96",
   "metadata": {},
   "outputs": [],
   "source": [
    "from sys import path\n",
    "\n",
    "path.append(\"C:\\Users\\Admin\\PycharmProjects\\main\\ру\\packages\")\n",
    "\n",
    "import extra.iota import funI\n",
    "print(funI())"
   ]
  },
  {
   "cell_type": "markdown",
   "id": "7b15a1ab-411c-431f-97b9-98262a4911ff",
   "metadata": {},
   "source": [
    "### Завдання 2.1\n",
    "Доступ до кінця дерева"
   ]
  },
  {
   "cell_type": "code",
   "execution_count": null,
   "id": "8ff16060-6570-4dc3-a740-6942c279139c",
   "metadata": {},
   "outputs": [],
   "source": [
    "from sys import path\n",
    "\n",
    "from ру.packages import extra\n",
    "\n",
    "path.append(\"C:\\Users\\Admin\\PycharmProjects\\main\\ру\\packages\")\n",
    "\n",
    "import extra.good.best.sigma as sig\n",
    "from extra.good.best.tau import funT\n",
    "\n",
    "print(extra.good.best.sigma.funS())\n",
    "print(funT())"
   ]
  },
  {
   "cell_type": "markdown",
   "id": "8e8b8b5c-15c8-44c0-a5c4-bab8aeb9ed12",
   "metadata": {},
   "source": [
    "### Завдання 2.2\n",
    "Пакет у zip-файлі"
   ]
  },
  {
   "cell_type": "code",
   "execution_count": null,
   "id": "21f12ff2-abde-4d6a-8043-6ccd35320e1d",
   "metadata": {},
   "outputs": [],
   "source": [
    "from sys import path\n",
    "path.append(\"C:\\Users\\Admin\\PycharmProjects\\main\\ру\\packages\\Extrapack ZIP file.zip\")\n",
    "\n",
    "import extra.good.best.sigma as sig\n",
    "import extra.good.alpha as alp\n",
    "from extra.iota import funT\n",
    "from extra.good.beta import funB\n",
    "\n",
    "print(sig.funS())\n",
    "print(alp.funA())\n",
    "print(funI())\n",
    "print(funB())"
   ]
  },
  {
   "cell_type": "markdown",
   "id": "d18bc632-b172-47e0-bb0d-622570cf4690",
   "metadata": {},
   "source": [
    "## Робота з менеджером пакетів `pip` "
   ]
  },
  {
   "cell_type": "markdown",
   "id": "f78e2406-a8e4-4073-9deb-5c1fc735c70c",
   "metadata": {},
   "source": [
    "Список основних команд `pip`:\n",
    "\n",
    "* `pip help operation` – показує короткий опис pip;\n",
    "* `pip list` – показує список встановлених пакетів;\n",
    "* `pip show package_name` – показує інформацію про package_name, включаючи залежність пакета;\n",
    "* `pip search anystring` – виконує пошук у каталогах PyPI, щоб знайти пакети, імена яких містять anystring;\n",
    "* `pip install name` – встановлює name у масштабі всієї системи (очікуйте проблем, якщо у Вас немає прав адміністратора);\n",
    "* `pip install` --user name – встановлює name лише для Вас; жоден інший користувач платформи не зможе його використовувати;\n",
    "* `pip install -U name` – оновлює раніше встановлений пакет;\n",
    "* `pip uninstall name` – видаляє встановлений раніше пакет."
   ]
  },
  {
   "cell_type": "markdown",
   "id": "871b4151-3979-4b8d-81b9-cc46dd7b1938",
   "metadata": {},
   "source": [
    "### Завдання 3\n",
    "За допомогою менеджера пакетів `pip`: \n",
    "\n",
    "* вивести перелік встановлених на Вашому комп'ютері пакетів\n",
    "* знайти і встановити пакет `pygame`\n",
    "* вивести інформацію про `pygame`\n",
    "* запустити код, наведений нижче\n",
    "* деінсталювати пакет `pygame`"
   ]
  },
  {
   "cell_type": "code",
   "execution_count": null,
   "id": "599a5d51-3604-486c-b155-4b5c31961154",
   "metadata": {},
   "outputs": [],
   "source": [
    "import pygame\n",
    "\n",
    "run = True\n",
    "width = 400\n",
    "height = 100\n",
    "pygame.init()\n",
    "screen = pygame.display.set_mode((width, height))\n",
    "font = pygame.font.SysFont(None, 48)\n",
    "text = font.render(\"Welcome to pygame\", True, (255, 255, 255))\n",
    "screen.blit(text, ((width - text.get_width()) // 2, (height - text.get_height()) // 2))\n",
    "pygame.display.flip()\n",
    "while run:\n",
    "    for event in pygame.event.get():\n",
    "        if event.type == pygame.QUIT or event.type == pygame.MOUSEBUTTONUP or event.type == pygame.KEYUP:\n",
    "            run = False\n"
   ]
  },
  {
   "cell_type": "markdown",
   "id": "6fe4122e-d1d0-413c-a355-cd1ac8875523",
   "metadata": {},
   "source": [
    "## Контрольні запитання"
   ]
  },
  {
   "cell_type": "markdown",
   "id": "cf018dd9-c05d-4dab-bbd7-d5fa2c6af283",
   "metadata": {},
   "source": [
    "1. Ви хочете заборонити користувачеві модуля запускати ваш код як звичайний скрипт. Як досягти такого ефекту? Написати код."
   ]
  },
  {
   "cell_type": "code",
   "execution_count": null,
   "id": "a7f0eb19-692a-486a-acf3-42c389a65c4f",
   "metadata": {},
   "outputs": [],
   "source": [
    "def say_hello():\n",
    "    print(\"Привіт! Це модуль 1\")\n",
    "\n",
    "\n",
    "def main():\n",
    "    print(\"Цей код неможливо імпортувати\")\n",
    "\n",
    "\n",
    "if __name__ == \"__main__\":\n",
    "    main()"
   ]
  },
  {
   "cell_type": "markdown",
   "id": "c9254b6e-7a01-480b-a42b-b9236fbafad2",
   "metadata": {},
   "source": [
    "2. Деякі додаткові та необхідні пакети зберігаються в каталозі D:\\Python\\Project\\Modules. Напишіть код, який забезпечує перегляд каталогу Python для пошуку всіх модулів. Написати код."
   ]
  },
  {
   "cell_type": "code",
   "execution_count": null,
   "id": "d761a658-dd28-45c8-8cd3-58e94916dd20",
   "metadata": {},
   "outputs": [],
   "source": [
    "import os\n",
    "directory = \"D:\"\n",
    "\n",
    "def find_modules(directory):\n",
    "    modules = []\n",
    "    for root, dirs, files in os.walk(directory):\n",
    "        for file in files:\n",
    "            if file.endswith(\".py\"):\n",
    "                modules.append(os.path.join(root, file))\n",
    "    return modules\n",
    "\n",
    "modules = find_modules(directory)\n",
    "for module in modules:\n",
    "    print(module)\n"
   ]
  },
  {
   "cell_type": "markdown",
   "id": "bdd94e5a-7b4e-4680-9c1d-b77189a9e453",
   "metadata": {},
   "source": [
    "3. Каталог, згаданий у попередній вправі, містить піддерево наступної структури:\n",
    "\n",
    "![Знімок екрана 2024-11-07 210401.png](attachment:90ad9374-4794-44cb-99c0-946738c45d27.png)"
   ]
  },
  {
   "cell_type": "markdown",
   "id": "89d87d02-ec09-4c73-ac3f-7df3fcf8161a",
   "metadata": {},
   "source": [
    "Припускаючи, що `D:\\Python\\Project\\Modules` був успішно доданий до списку `sys.path`, напишіть директиву імпорту, що дозволяє використовувати всі сутності з `mymodule`."
   ]
  },
  {
   "cell_type": "code",
   "execution_count": null,
   "id": "d0c8f616-fc0b-47f8-be20-f9d5510f5fab",
   "metadata": {},
   "outputs": [],
   "source": [
    "import sys\n",
    "\n",
    "sys.path.append('C:\\Users\\Admin\\PycharmProjects\\modules')\n",
    "from mymodule import *\n",
    "\n",
    "say_hello()\n",
    "print(some_variable)"
   ]
  },
  {
   "cell_type": "markdown",
   "id": "e8a8f93c-9a8b-4fae-8716-24f671c8965d",
   "metadata": {},
   "source": [
    "## References"
   ]
  },
  {
   "cell_type": "markdown",
   "id": "86777a91-ed7b-48c5-8882-4ea83efe7369",
   "metadata": {},
   "source": [
    "1. [Anaconda (Python distribution)](https://uk.wikipedia.org/wiki/Anaconda_(Python_distribution))\n",
    "2. [Conda](https://conda.io/en/latest/)\n",
    "3. [Pro Git Book](https://git-scm.com/book/en/v2)\n",
    "4. [OpenEDG Python Institute](https://pythoninstitute.org/)\n",
    "5. [Cisco. Networking Academy](https://www.netacad.com/)\n",
    "6. [Научно-издательская система Quarto](https://data-visualization-blog.netlify.app/posts/quarto/)\n",
    "7. [Modules](https://docs.python.org/3/tutorial/modules.html)\n",
    "8. [The Python Standard Library](https://docs.python.org/3/library/index.html)\n",
    "9. [Стандартні модулі Python](https://docs.python.org/3/py-modindex.html)\n",
    "10. [Packaging Working Group](https://wiki.python.org/psf/PackagingWG)\n",
    "11. [Веб-сайт PyPI](https://pypi.org/)\n",
    "12. [Посилання для контрольних питаннь №2]https://stackoverflow.com/questions/1057431/how-to-load-all-modules-in-a-folder\n",
    "13. [Посилання для контрольних питаннь №2]https://github.com/stewartsmith/bzr/blob/bzr/setup.py\n",
    "14. [Посилання для контрольних питаннь №3] https://stackoverflow.com/questions/47257548/python-module-importing-with-sys-path-and-os-path-issue"
   ]
  }
 ],
 "metadata": {
  "kernelspec": {
   "display_name": "Python 3 (ipykernel)",
   "language": "python",
   "name": "python3"
  },
  "language_info": {
   "codemirror_mode": {
    "name": "ipython",
    "version": 3
   },
   "file_extension": ".py",
   "mimetype": "text/x-python",
   "name": "python",
   "nbconvert_exporter": "python",
   "pygments_lexer": "ipython3",
   "version": "3.12.4"
  }
 },
 "nbformat": 4,
 "nbformat_minor": 5
}
